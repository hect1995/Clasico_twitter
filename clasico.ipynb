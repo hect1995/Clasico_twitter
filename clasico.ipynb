{
 "cells": [
  {
   "cell_type": "code",
   "execution_count": 31,
   "metadata": {
    "collapsed": true
   },
   "outputs": [],
   "source": [
    "import tweepy\n",
    "from tweepy import OAuthHandler\n",
    "import json\n",
    "from tweepy import Stream\n",
    "from tweepy.streaming import StreamListener\n",
    "import time"
   ]
  },
  {
   "cell_type": "markdown",
   "metadata": {},
   "source": [
    "The requiered packages to connect into the Twitter API are downloaded"
   ]
  },
  {
   "cell_type": "code",
   "execution_count": 2,
   "metadata": {
    "collapsed": true
   },
   "outputs": [],
   "source": [
    "consumer_key = 'xxxxxxxxxxxxxxxxxxxxxxxxxx'\n",
    "consumer_secret = 'xxxxxxxxxxxxxxxxxxxxxxxxxxxx'\n",
    "access_token = 'xxxxxxxxxxxxxxxxxxxxxxxxxxxx'\n",
    "access_secret = 'xxxxxxxxxxxxxxxxxxxxxxxxxxxx'\n",
    "\n",
    "auth = OAuthHandler(consumer_key, consumer_secret)\n",
    "auth.set_access_token(access_token, access_secret)\n",
    "\n",
    "api = tweepy.API(auth)"
   ]
  },
  {
   "cell_type": "markdown",
   "metadata": {},
   "source": [
    "The first step consists on registering the application into Twitter in order to extract the desired information. For registering: http://apps.twitter.com and you will receive the consumer key and a consumer secret. The other two variables are in the Keys and Acces Tokens part. "
   ]
  },
  {
   "cell_type": "code",
   "execution_count": 5,
   "metadata": {
    "collapsed": true
   },
   "outputs": [],
   "source": [
    "def process_or_store(tweet):\n",
    "    print(json.dumps(tweet))"
   ]
  },
  {
   "cell_type": "markdown",
   "metadata": {},
   "source": [
    "The function process_or_store() is a place-holder for your custom implementation. In the simplest form, you could just print out the JSON, one tweet per line:"
   ]
  },
  {
   "cell_type": "code",
   "execution_count": 6,
   "metadata": {
    "collapsed": true
   },
   "outputs": [],
   "source": [
    "class MyListener(StreamListener):\n",
    "    def __init__(self, time_limit=60):\n",
    "        self.start_time = time.time()\n",
    "        self.limit = time_limit\n",
    "        self.saveFile = open('clasico_victoria.json', 'a')\n",
    "        super(MyListener, self).__init__()\n",
    "\n",
    "    def on_data(self, data):\n",
    "        try:\n",
    "            if (time.time() - self.start_time) < self.limit:\n",
    "                self.saveFile.write(data)\n",
    "                self.saveFile.write('\\n')\n",
    "                return True\n",
    "            else:\n",
    "                self.saveFile.close()\n",
    "                return False\n",
    "        except BaseException as e:\n",
    "            print(\"Error on_data: \",str(e),\"\")\n",
    "            return True\n",
    "\n",
    "    def on_error(self, status):\n",
    "        print(status)\n",
    "        return True"
   ]
  },
  {
   "cell_type": "markdown",
   "metadata": {},
   "source": [
    "To keep the connection open for a period of time in order to gather information the streaming API is used. We create a messi_victoria.json file to save all the tweets. The defaul limit time of open connection is 60 seconds. "
   ]
  },
  {
   "cell_type": "code",
   "execution_count": null,
   "metadata": {
    "collapsed": true
   },
   "outputs": [],
   "source": [
    "twitter_stream = Stream(auth, MyListener(time_limit=360))\n",
    "twitter_stream.filter(track=['#Clasico'])"
   ]
  },
  {
   "cell_type": "markdown",
   "metadata": {},
   "source": [
    "To obtain all the \"#Clasico\" tweets for 6 minutes"
   ]
  },
  {
   "cell_type": "markdown",
   "metadata": {},
   "source": [
    "Once the json file has been saved with all the features for each tweet. The key atributes for each tweet are:\n",
    "\n",
    "text: the text of the tweet itself\n",
    "\n",
    "created_at: the date of creation\n",
    "\n",
    "favorite_count, retweet_count: the number of favourites and retweets\n",
    "\n",
    "favorited, retweeted: boolean stating whether the authenticated user (you) have favourited or retweeted this tweet\n",
    "\n",
    "lang: acronym for the language (e.g. “en” for english)\n",
    "\n",
    "id: the tweet identifier\n",
    "\n",
    "place, coordinates, geo: geo-location information if available\n",
    "\n",
    "user: the author’s full profile\n",
    "\n",
    "\n"
   ]
  },
  {
   "cell_type": "code",
   "execution_count": 30,
   "metadata": {
    "collapsed": true
   },
   "outputs": [],
   "source": [
    "%matplotlib inline\n",
    "from nltk.tokenize import word_tokenize\n",
    "import re\n",
    "from collections import Counter\n",
    "import matplotlib.pyplot as plt\n",
    "import numpy as np\n",
    "from nltk.corpus import stopwords\n",
    "import string\n",
    "from regex import VERSION1, UNICODE, compile"
   ]
  },
  {
   "cell_type": "markdown",
   "metadata": {},
   "source": [
    "Import the packages that will be requiered for further analysis"
   ]
  },
  {
   "cell_type": "code",
   "execution_count": 10,
   "metadata": {
    "collapsed": true
   },
   "outputs": [],
   "source": [
    "emoticons_str = r\"\"\"\n",
    "    (?:\n",
    "        [:=;] # Eyes\n",
    "        [oO\\-]? # Nose (optional)\n",
    "        [D\\)\\]\\(\\]/\\\\OpP] # Mouth\n",
    "    )\"\"\"\n",
    "\n",
    "regex_str = [\n",
    "    emoticons_str,\n",
    "    r'<[^>]+>',  # HTML tags\n",
    "    r'(?:@[\\w_]+)',  # @-mentions\n",
    "    r\"(?:\\#+[\\w_]+[\\w\\'_\\-]*[\\w_]+)\",  # hash-tags\n",
    "    r'http[s]?://(?:[a-z]|[0-9]|[$-_@.&amp;+]|[!*\\(\\),]|(?:%[0-9a-f][0-9a-f]))+',  # URLs\n",
    "\n",
    "    r'(?:(?:\\d+,?)+(?:\\.?\\d+)?)',  # numbers\n",
    "    r\"(?:[a-z][a-z'\\-_]+[a-z])\",  # words with - and '\n",
    "    r'(?:[\\w_]+)',  # other words\n",
    "    r'(?:\\S)'  # anything else\n",
    "]\n",
    "tokens_re = re.compile(r'(' + '|'.join(regex_str) + ')', re.VERBOSE | re.IGNORECASE)\n",
    "emoticon_re = re.compile(r'^' + emoticons_str + '$', re.VERBOSE | re.IGNORECASE)"
   ]
  },
  {
   "cell_type": "markdown",
   "metadata": {},
   "source": [
    "If we try to directly tokenize the tweets text, the result wont be the desirable one as there are certain characters such as emoticons, URLS or Hashtacks that are not considered in the standard tokenize so it needs to be added."
   ]
  },
  {
   "cell_type": "code",
   "execution_count": 7,
   "metadata": {
    "collapsed": true
   },
   "outputs": [],
   "source": [
    "def tokenize(s):\n",
    "    return tokens_re.findall(s)\n",
    "\n",
    "def preprocess(s, lowercase=False):\n",
    "    tokens = tokenize(s)\n",
    "    if lowercase:\n",
    "        tokens = [token if emoticon_re.search(token) else token.lower() for token in tokens]\n",
    "    return tokens"
   ]
  },
  {
   "cell_type": "markdown",
   "metadata": {},
   "source": [
    "The tokenisation is based on regular expressions (regexp), which is a common choice for this type of problem"
   ]
  },
  {
   "cell_type": "code",
   "execution_count": 28,
   "metadata": {
    "collapsed": true
   },
   "outputs": [],
   "source": [
    "with open('clasico_victoria.json', 'r') as f:\n",
    "    count_all = Counter()\n",
    "    count_words_english = Counter()\n",
    "    count_words_spanish = Counter()\n",
    "    default = 'und'\n",
    "    for line in f:\n",
    "        if len(line)>1:\n",
    "            tweet = json.loads(line)\n",
    "            # Create a list with all the terms\n",
    "            lenguage = preprocess(tweet.setdefault('lang',default))\n",
    "            if len(lenguage)>0:\n",
    "                lang_all = [lang for lang in lenguage]\n",
    "                # Update the counter\n",
    "                count_all.update(lang_all)"
   ]
  },
  {
   "cell_type": "markdown",
   "metadata": {},
   "source": [
    "This part of the code wants to save all the languages used for the tweets referring to \"#Clasico\" in order to plot the most important ones. A Counter() object is created in order to save the list of languages. In order to avoid errors when the lenguage is missing, we create 'und' (undefined) as a default parameter"
   ]
  },
  {
   "cell_type": "code",
   "execution_count": 18,
   "metadata": {
    "scrolled": true
   },
   "outputs": [
    {
     "data": {
      "text/plain": [
       "([<matplotlib.axis.XTick at 0x113680650>,\n",
       "  <matplotlib.axis.XTick at 0x1136801d0>,\n",
       "  <matplotlib.axis.XTick at 0x1138b3210>,\n",
       "  <matplotlib.axis.XTick at 0x1139d7510>,\n",
       "  <matplotlib.axis.XTick at 0x1139d7c50>,\n",
       "  <matplotlib.axis.XTick at 0x1139e03d0>,\n",
       "  <matplotlib.axis.XTick at 0x1139e0b10>,\n",
       "  <matplotlib.axis.XTick at 0x1139ec290>,\n",
       "  <matplotlib.axis.XTick at 0x1139ec9d0>],\n",
       " <a list of 9 Text xticklabel objects>)"
      ]
     },
     "execution_count": 18,
     "metadata": {},
     "output_type": "execute_result"
    },
    {
     "data": {
      "image/png": "[encoded data removed]",
      "text/plain": [
       "<matplotlib.figure.Figure at 0x113416390>"
      ]
     },
     "metadata": {},
     "output_type": "display_data"
    }
   ],
   "source": [
    "importants = count_all.most_common(9)\n",
    "labels,ys = zip(*importants)\n",
    "indexes = np.arange(len(labels))\n",
    "p= plt.bar(indexes,ys,0.5,color='#d62728',align='center')\n",
    "plt.ylabel('Counter')\n",
    "plt.title('Language Counter')\n",
    "plt.xticks(np.arange(len(ys)),labels)\n"
   ]
  },
  {
   "cell_type": "markdown",
   "metadata": {
    "collapsed": true
   },
   "source": [
    "I plot the 9 principal languages used to talk about the Clasico. As it was expected the main two languages are English, and Spanish."
   ]
  },
  {
   "cell_type": "markdown",
   "metadata": {},
   "source": [
    "As the amount of Undetermined language tweets is too high, I will use the langdetect package in order to determine the language from the tweet text"
   ]
  },
  {
   "cell_type": "code",
   "execution_count": 3,
   "metadata": {
    "collapsed": true
   },
   "outputs": [],
   "source": [
    "from langdetect import detect"
   ]
  },
  {
   "cell_type": "code",
   "execution_count": 19,
   "metadata": {},
   "outputs": [
    {
     "name": "stdout",
     "output_type": "stream",
     "text": [
      "The most used words in English are: [(u'#ElClasico', 3311), (u':', 3130), (u'.', 3067), (u'RT', 2839), (u'!', 2330), (u'the', 1451), (u'\\ud83d', 1425), (u'a', 1421), (u'#Messi', 1369), (u'\\u2026', 1092)]\n",
      "The most used words in Spanish are: [(u'.', 2256), (u':', 1770), (u'#ElClasico', 1720), (u'RT', 1482), (u'el', 965), (u'de', 830), (u'en', 813), (u'!', 782), (u'a', 753), (u'\\u2026', 632)]\n"
     ]
    }
   ],
   "source": [
    "with open('clasico_victoria.json', 'r') as f:\n",
    "    count_all = Counter()\n",
    "    count_words_english = Counter()\n",
    "    count_words_spanish = Counter()\n",
    "    default = 'und'    \n",
    "    for line in f:\n",
    "        if len(line)>1:\n",
    "            tweet = json.loads(line)\n",
    "            lenguage = preprocess(tweet.setdefault('lang',default))\n",
    "            if lenguage==[u'und']:\n",
    "                p=1\n",
    "            if len(tweet)>3: \n",
    "                if lenguage=='und':\n",
    "                    lenguage = detect(tweet['text'])\n",
    "                    tweet['lang'] = lenguage\n",
    "                lang_all = [lang for lang in lenguage]\n",
    "                count_all.update(lang_all)\n",
    "                if lenguage == [u'en']:\n",
    "                    terms_all = [term for term in preprocess(tweet['text'])]\n",
    "                    count_words_english.update(terms_all)\n",
    "                elif lenguage == [u'es']:\n",
    "                    terms_all = [term for term in preprocess(tweet['text'])]\n",
    "                    count_words_spanish.update(terms_all)\n",
    "    engl='The most used words in English are: '+str(count_words_english.most_common(10))+''\n",
    "    sp='The most used words in Spanish are: '+str(count_words_spanish.most_common(10))+''\n",
    "    print engl\n",
    "    print sp\n",
    "\n",
    "    "
   ]
  },
  {
   "cell_type": "markdown",
   "metadata": {},
   "source": [
    "Next step will be to determine text frequency. I will focus in determining the most common words for English and for Spanish. As it can be seen from the output, the majority of the words are stopwords which do not provide valuable information, so will be omited using stopwords package:"
   ]
  },
  {
   "cell_type": "code",
   "execution_count": 12,
   "metadata": {
    "collapsed": true
   },
   "outputs": [],
   "source": [
    "punctuation = list(string.punctuation)\n",
    "stop_english = stopwords.words('english') + punctuation + ['rt', 'via', '\\*']\n",
    "stop_spanish = stopwords.words('spanish') + punctuation + ['rt', 'via', '\\*']"
   ]
  },
  {
   "cell_type": "code",
   "execution_count": 33,
   "metadata": {},
   "outputs": [
    {
     "name": "stdout",
     "output_type": "stream",
     "text": [
      "The most used words in English are: [(u'#ElClasico', 3311), (u'RT', 2839), (u'\\ud83d', 1425), (u'#Messi', 1369), (u'\\u2026', 1092), (u'Messi', 975), (u'Barcelona', 964), (u'\\u2705', 948), (u'Most', 944), (u'500', 903)]\n",
      "The most used words in Spanish are: [(u'#ElClasico', 1720), (u'RT', 1482), (u'\\u2026', 632), (u'#Messi', 546), (u'\\xf3', 529), (u'\\u2713', 528), (u'\\ud83d', 488), (u'\\xe1', 465), (u'Messi', 451), (u'goles', 365)]\n"
     ]
    }
   ],
   "source": [
    "with open('clasico_victoria.json', 'r') as f:\n",
    "    count_all = Counter()\n",
    "    count_words_english = Counter()\n",
    "    count_words_spanish = Counter()\n",
    "    default = 'und'\n",
    "    for line in f:\n",
    "        if len(line) > 1:\n",
    "            tweet = json.loads(line)\n",
    "            lenguage = preprocess(tweet.setdefault('lang', default))\n",
    "            if lenguage == [u'und']:\n",
    "                p = 1\n",
    "            if len(tweet) > 3:\n",
    "                if lenguage == 'und':\n",
    "                    lenguage = detect(tweet['text'])\n",
    "                    tweet['lang'] = lenguage\n",
    "                lang_all = [lang for lang in lenguage]\n",
    "                count_all.update(lang_all)\n",
    "                if lenguage == [u'en']:\n",
    "                    terms_all = [term for term in preprocess(tweet['text']) if term not in stop_english]\n",
    "                    count_words_english.update(terms_all)\n",
    "                elif lenguage == [u'es']:\n",
    "                    terms_all = [term for term in preprocess(tweet['text']) if term not in stop_spanish]\n",
    "                    count_words_spanish.update(terms_all)\n",
    "    engl='The most used words in English are: '+str(count_words_english.most_common(10))+''\n",
    "    sp='The most used words in Spanish are: '+str(count_words_spanish.most_common(10))+''\n",
    "    print engl\n",
    "    print sp"
   ]
  },
  {
   "cell_type": "markdown",
   "metadata": {
    "collapsed": true
   },
   "source": [
    "A lot of them are emoticons and special characters which do not provide much information, su I import regex package:"
   ]
  },
  {
   "cell_type": "code",
   "execution_count": 44,
   "metadata": {},
   "outputs": [
    {
     "name": "stdout",
     "output_type": "stream",
     "text": [
      "The most used words in English are: [(u'', 114296), (u'RT', 42675), (u'Messi', 27966), (u'Most', 26893), (u'#ElClasico', 26587), (u'\\u2026', 21970), (u'goals', 19791), (u'\\ud83d', 19623), (u'ElClasico', 18404), (u'Barcelona', 16866)]\n",
      "The most used words in Spanish are: [(u'', 44953), (u'RT', 23914), (u'#ElClasico', 14508), (u'Messi', 12929), (u'\\u2026', 12129), (u'\\xe1', 10648), (u'ElClasico', 10055), (u'\\xf3', 8871), (u'goles', 8082), (u's', 7129)]\n"
     ]
    }
   ],
   "source": [
    "with open('clasico_victoria.json', 'r') as f:\n",
    "    count_all = Counter()\n",
    "    count_words_english = Counter()\n",
    "    count_words_spanish = Counter()\n",
    "    default = 'und'\n",
    "    for line in f:\n",
    "        if len(line) > 1:\n",
    "            tweet = json.loads(line)\n",
    "            lenguage = preprocess(tweet.setdefault('lang', default))\n",
    "            if lenguage == [u'und']:\n",
    "                p = 1\n",
    "            if len(tweet) > 3:\n",
    "                if lenguage == 'und':\n",
    "                    lenguage = detect(tweet['text'])\n",
    "                    tweet['lang'] = lenguage\n",
    "                lang_all = [lang for lang in lenguage]\n",
    "                count_all.update(lang_all)\n",
    "                if lenguage == [u'en']:\n",
    "                    terms_all_new = [term for term in preprocess(tweet['text']) if term not in stop_english]\n",
    "                    for j in range(len(terms_all_new)):\n",
    "                        terms_all_new[j]= compile(ur'\\p{^Latin}+', VERSION1 | UNICODE).sub('',terms_all_new[j])\n",
    "                        count_words_english.update(terms_all_new)\n",
    "                elif lenguage == [u'es']:\n",
    "                    terms_all_new = [term for term in preprocess(tweet['text']) if term not in stop_spanish]\n",
    "                    for j in range(len(terms_all_new)):\n",
    "                        terms_all_new[j] = compile(ur'\\p{^Latin}+', VERSION1 | UNICODE).sub('', terms_all_new[j])\n",
    "                        count_words_spanish.update(terms_all_new)\n",
    "    engl='The most used words in English are: '+str(count_words_english.most_common(10))+''\n",
    "    sp='The most used words in Spanish are: '+str(count_words_spanish.most_common(10))+''\n",
    "    print engl\n",
    "    print sp"
   ]
  },
  {
   "cell_type": "markdown",
   "metadata": {},
   "source": [
    "This code will just omit the non LATIN words so emoticons will be erased as well as #. It is important to mention that some important words will be omitted to as 500 (the number of goals that Messi has scored)"
   ]
  },
  {
   "cell_type": "markdown",
   "metadata": {},
   "source": [
    "Sometimes we are interested in the terms that occur together. This is mainly because the context gives us a better insight about the meaning of a term, I will implement the code to determine the words that occur together."
   ]
  },
  {
   "cell_type": "code",
   "execution_count": 36,
   "metadata": {
    "collapsed": true
   },
   "outputs": [],
   "source": [
    "from collections import defaultdict\n",
    "# Returns a new dictionary-like object. It overrides one method and adds one writable instance variable\n",
    "import operator\n",
    "# to acces the key in sorted. It provides methods such as itemsgetter"
   ]
  },
  {
   "cell_type": "code",
   "execution_count": 48,
   "metadata": {},
   "outputs": [],
   "source": [
    "com = defaultdict(lambda : defaultdict(int)) #in order to expect int's\n",
    "with open('clasico_victoria.json', 'r') as f:\n",
    "    count_all = Counter()\n",
    "    count_words_english = Counter()\n",
    "    count_words_spanish = Counter()\n",
    "    default = 'und'\n",
    "    com = defaultdict(lambda : defaultdict(int)) #in order to expect int's\n",
    "    counter_tweets = 0 #in order to count all the tweets that have 'text' and 'lang'\n",
    "    for line in f:\n",
    "        if len(line)>1:\n",
    "            tweet = json.loads(line)\n",
    "            if (\"text\" in tweet) & (\"lang\" in tweet):\n",
    "                if (tweet['lang'] == u'en'):\n",
    "                    counter_tweets += 1\n",
    "                    terms_only = [term for term in preprocess(tweet['text'])\n",
    "                                  if term not in stop_english\n",
    "                                  and not term.startswith(('#', '@'))]\n",
    "                    count_all.update(terms_only)\n",
    "                    # Build co-occurrence matrix\n",
    "                    for i in range(len(terms_only)-1):\n",
    "                        for j in range(i+1, len(terms_only)):\n",
    "                            w1, w2 = sorted([terms_only[i], terms_only[j]])\n",
    "                            if w1 != w2:\n",
    "                                com[w1][w2] += 1"
   ]
  },
  {
   "cell_type": "markdown",
   "metadata": {
    "collapsed": true
   },
   "source": [
    "In order to know what two words tend to be together"
   ]
  },
  {
   "cell_type": "code",
   "execution_count": 40,
   "metadata": {},
   "outputs": [
    {
     "name": "stdout",
     "output_type": "stream",
     "text": [
      "[((u'Most', u'\\u2705'), 3760), ((u'\\ud83d', u'\\ude0d'), 3326), ((u'\\ud83d', u'\\ude2d'), 2504), ((u'Most', u'goals'), 2333), ((u'goals', u'\\u2705'), 2328), ((u'\\u2705', u'\\ud83c'), 1824), ((u'Most', u'\\ud83c'), 1824), ((u'\\xa0', u'\\u2705'), 1668), ((u'Most', u'\\xa0'), 1668), ((u'\\ud83d', u'\\udd25'), 1301)]\n"
     ]
    }
   ],
   "source": [
    "com_max = []\n",
    "for t1 in com:\n",
    "    t1_max_terms = sorted(com[t1].items(), key=operator.itemgetter(1), reverse=True)[:5] #sorting by number of occurances\n",
    "    for t2, t2_count in t1_max_terms:\n",
    "        com_max.append(((t1, t2), t2_count))\n",
    "terms_max = sorted(com_max, key=operator.itemgetter(1), reverse=True)\n",
    "print(terms_max[:10]) #print the 10 higher co-ocurrances\n"
   ]
  },
  {
   "cell_type": "markdown",
   "metadata": {},
   "source": [
    "As for this case I did not omit the emoticons and special character, the results are not as much clear as expected. I will filter by a word, for example Messi:"
   ]
  },
  {
   "cell_type": "code",
   "execution_count": 42,
   "metadata": {},
   "outputs": [
    {
     "name": "stdout",
     "output_type": "stream",
     "text": [
      "Co-occurrence for Messi:\n",
      "[(u'Messi', 975), (u'RT', 717), (u'Lionel', 415), (u'\\u2026', 408), (u'Barcelona', 402), (u'500', 366), (u'goal', 355), (u'th', 306), (u'\\ud83d', 279), (u'2', 253), (u'3', 238), (u'The', 231), (u'time', 220), (u'scores', 218), (u'wins', 209), (u'away', 195), (u'victory', 190), (u'added', 190), (u'seal', 190), (u'No10', 190)]\n"
     ]
    }
   ],
   "source": [
    "with open('clasico_victoria.json', 'r') as f:\n",
    "    count_all = Counter()\n",
    "    count_words_english = Counter()\n",
    "    count_words_spanish = Counter()\n",
    "    default = 'und'\n",
    "    com = defaultdict(lambda: defaultdict(int))  # in order to expect int's\n",
    "    counter = 1\n",
    "    search_word = 'Messi' # paste whatever you want\n",
    "    count_search = Counter()\n",
    "    for line in f:\n",
    "        if len(line) > 1:\n",
    "            tweet = json.loads(line)\n",
    "            if (\"text\" in tweet) & (\"lang\" in tweet):\n",
    "                if (tweet['lang'] == u'en'):\n",
    "                    terms_only = [term for term in preprocess(tweet['text']) \n",
    "                    if term not in stop_english \n",
    "                    and not term.startswith(('#', '@'))]\n",
    "                    if search_word in terms_only:\n",
    "                        count_search.update(terms_only)\n",
    "    print(\"Co-occurrence for %s:\" % search_word)\n",
    "    print(count_search.most_common(20))\n"
   ]
  },
  {
   "cell_type": "markdown",
   "metadata": {},
   "source": [
    "Now I am going to do Sentimental Analysis. The method used is using Semantic Orientation. SO of a word is the difference between its associations with positive and negative words. In practice, we want to calculate “how close” a word is with terms like good and bad. The chosen measure of “closeness” is Pointwise Mutual Information (PMI)"
   ]
  },
  {
   "cell_type": "code",
   "execution_count": 53,
   "metadata": {
    "collapsed": true
   },
   "outputs": [],
   "source": [
    "from __future__ import division # in order to do floating divisions. if not a lot of 0.xxx would result in 0\n",
    "import math"
   ]
  },
  {
   "cell_type": "code",
   "execution_count": 50,
   "metadata": {},
   "outputs": [],
   "source": [
    "p_t = {}\n",
    "p_t_com = defaultdict(lambda: defaultdict(int))\n",
    "for term, n in count_all.items():\n",
    "    p_t[term] = n / counter_tweets \n",
    "    for t2 in com[term]:\n",
    "        p_t_com[term][t2] = com[term][t2] / counter_tweets"
   ]
  },
  {
   "cell_type": "code",
   "execution_count": 51,
   "metadata": {
    "collapsed": true
   },
   "outputs": [],
   "source": [
    "positive_vocab = [\n",
    "    'good', 'nice', 'great', 'awesome', 'outstanding',\n",
    "    'fantastic', 'terrific', ':)', ':-)', 'like', 'love','best','victory'\n",
    "]\n",
    "negative_vocab = [\n",
    "    'bad', 'terrible', 'crap', 'useless', 'hate', ':(', ':-(','defeat','loss'\n",
    "    # 'defeat', etc.\n",
    "]"
   ]
  },
  {
   "cell_type": "code",
   "execution_count": 54,
   "metadata": {},
   "outputs": [],
   "source": [
    "pmi = defaultdict(lambda : defaultdict(int))\n",
    "for t1 in p_t:\n",
    "    for t2 in com[t1]:\n",
    "        denom = p_t[t1] * p_t[t2]\n",
    "        pmi[t1][t2] = math.log(p_t_com[t1][t2] / denom,2) #the formula of PMI \n",
    " \n",
    "semantic_orientation = {} # a dictionary that will be changing size\n",
    "for term, n in p_t.items():\n",
    "    positive_assoc = sum(pmi[term][tx] for tx in positive_vocab)\n",
    "    negative_assoc = sum(pmi[term][tx] for tx in negative_vocab)\n",
    "    semantic_orientation[term] = positive_assoc - negative_assoc\n"
   ]
  },
  {
   "cell_type": "code",
   "execution_count": 55,
   "metadata": {},
   "outputs": [
    {
     "name": "stdout",
     "output_type": "stream",
     "text": [
      "[(u'Its', 15.765931822480063), (u'equally', 15.163549793016456), (u'feel', 14.733966460833498), (u'Aref', 13.840228462829227), (u'alwaysss', 13.801754315014591), (u'Wht', 13.801754315014591), (u'aya', 13.801754315014591), (u'anarl', 13.526119872401164), (u'certain', 13.526119872401164), (u'Gallowgate', 13.526119872401164)]\n",
      "[(u'Wembley', -10.928518375257891), (u'https://t.co/erezPl6CEf', -10.928518375257891), (u'Madrid', -11.167021091772336), (u'Barcelona', -11.327960109150103), (u'kid', -11.928518375257891), (u'plz', -11.928518375257891), (u'Black', -11.928518375257891), (u'meme', -11.928518375257891), (u'share', -11.928518375257891), (u'tag', -11.928518375257891)]\n"
     ]
    }
   ],
   "source": [
    "semantic_sorted = sorted(semantic_orientation.items(), \n",
    "                         key=operator.itemgetter(1), \n",
    "                         reverse=True)\n",
    "top_pos = semantic_sorted[:10]\n",
    "top_neg = semantic_sorted[-10:]\n",
    " \n",
    "print(top_pos)\n",
    "print(top_neg)"
   ]
  },
  {
   "cell_type": "markdown",
   "metadata": {},
   "source": [
    "Results still to be analyzed."
   ]
  },
  {
   "cell_type": "code",
   "execution_count": null,
   "metadata": {
    "collapsed": true
   },
   "outputs": [],
   "source": []
  }
 ],
 "metadata": {
  "kernelspec": {
   "display_name": "Python 2",
   "language": "python",
   "name": "python2"
  },
  "language_info": {
   "codemirror_mode": {
    "name": "ipython",
    "version": 2
   },
   "file_extension": ".py",
   "mimetype": "text/x-python",
   "name": "python",
   "nbconvert_exporter": "python",
   "pygments_lexer": "ipython2",
   "version": "2.7.13"
  }
 },
 "nbformat": 4,
 "nbformat_minor": 2
}
